{
  "nbformat": 4,
  "nbformat_minor": 0,
  "metadata": {
    "colab": {
      "provenance": [],
      "gpuType": "T4"
    },
    "kernelspec": {
      "name": "python3",
      "display_name": "Python 3"
    },
    "language_info": {
      "name": "python"
    },
    "accelerator": "GPU"
  },
  "cells": [
    {
      "cell_type": "code",
      "execution_count": 5,
      "metadata": {
        "id": "zAtD4_lx28Uq"
      },
      "outputs": [],
      "source": [
        "# Use a pipeline as a high-level helper\n",
        "from transformers import pipeline\n",
        "\n",
        "pipe1 = pipeline(\"text-generation\", model=\"guna-2222/NLP_task1\")\n",
        "# Load model directly\n",
        "from transformers import AutoTokenizer, AutoModelForCausalLM\n",
        "\n",
        "tokenizer = AutoTokenizer.from_pretrained(\"guna-2222/NLP_task1\")\n",
        "model = AutoModelForCausalLM.from_pretrained(\"guna-2222/NLP_task1\")"
      ]
    },
    {
      "cell_type": "code",
      "source": [
        "def get_response(prompt: str) -> None:\n",
        "    \"\"\"\n",
        "    Generate a response from the GPT2 model.\n",
        "\n",
        "    Parameters:\n",
        "        prompt (str): The user's input/question for the model.\n",
        "\n",
        "    Returns:\n",
        "        None: Prints the model's response.\n",
        "    \"\"\"\n",
        "    sequences = pipe1(\n",
        "        prompt,\n",
        "        do_sample=True,\n",
        "        top_k=10,\n",
        "        num_return_sequences=1,\n",
        "        eos_token_id=tokenizer.eos_token_id,\n",
        "        max_length=256,\n",
        "        truncation=True,\n",
        "    )\n",
        "    return sequences[0]['generated_text']\n",
        "\n",
        "lyric = get_response(\"When i get on the dance floor\")"
      ],
      "metadata": {
        "id": "yilffMYv2-IJ"
      },
      "execution_count": 6,
      "outputs": []
    },
    {
      "cell_type": "code",
      "source": [
        "# Use a pipeline as a high-level helper\n",
        "from transformers import pipeline\n",
        "\n",
        "pipe2 = pipeline(\"text-classification\", model=\"guna-2222/NLP_task2\")\n",
        "\n",
        "# Load model directly\n",
        "from transformers import AutoTokenizer, AutoModelForSequenceClassification\n",
        "\n",
        "tokenizer = AutoTokenizer.from_pretrained(\"guna-2222/NLP_task2\")\n",
        "model = AutoModelForSequenceClassification.from_pretrained(\"guna-2222/NLP_task2\")"
      ],
      "metadata": {
        "id": "onKs6mC-3Hw-"
      },
      "execution_count": 8,
      "outputs": []
    },
    {
      "cell_type": "code",
      "source": [
        "result = pipe2(lyric)\n",
        "genre = result[0]['label']\n",
        "score = result[0]['score']"
      ],
      "metadata": {
        "id": "iuGgb1DfwuMb"
      },
      "execution_count": 12,
      "outputs": []
    },
    {
      "cell_type": "code",
      "source": [
        "label_dict = {\n",
        "    'LABEL_1':'rock',\n",
        "    'LABEL_2':'country',\n",
        "    'LABEL_3':'r&b',\n",
        "    'LABEL_4':'rap & hip hop',\n",
        "    'LABEL_5':'pop',\n",
        "    'LABEL_6':'rap'\n",
        "}"
      ],
      "metadata": {
        "id": "bCaAacukxOsP"
      },
      "execution_count": 13,
      "outputs": []
    },
    {
      "cell_type": "code",
      "source": [
        "genre = label_dict[genre]\n",
        "genre"
      ],
      "metadata": {
        "colab": {
          "base_uri": "https://localhost:8080/",
          "height": 35
        },
        "id": "OcMN824kx9iQ",
        "outputId": "fd94e021-73e4-47a4-f5af-c1f565dacc4a"
      },
      "execution_count": 14,
      "outputs": [
        {
          "output_type": "execute_result",
          "data": {
            "text/plain": [
              "'rap & hip hop'"
            ],
            "application/vnd.google.colaboratory.intrinsic+json": {
              "type": "string"
            }
          },
          "metadata": {},
          "execution_count": 14
        }
      ]
    },
    {
      "cell_type": "code",
      "source": [
        "def task3_input(prompt):\n",
        "  lyric = get_response(prompt)\n",
        "  task2_result = pipe2(lyric)\n",
        "  genre = result[0]['label']\n",
        "  score = result[0]['score']\n",
        "  genre = label_dict[genre]\n",
        "  return lyric, genre, score"
      ],
      "metadata": {
        "id": "_0NrBUw2yFF8"
      },
      "execution_count": 15,
      "outputs": []
    },
    {
      "cell_type": "code",
      "source": [
        "task3_input(\"baby i love you\")"
      ],
      "metadata": {
        "colab": {
          "base_uri": "https://localhost:8080/"
        },
        "id": "lR3xnlFeyyFw",
        "outputId": "9c5c880f-d91d-4be0-e6a1-bfa62e4e99fe"
      },
      "execution_count": 17,
      "outputs": [
        {
          "output_type": "execute_result",
          "data": {
            "text/plain": [
              "(\"baby i love you baby i love you baby baby i'm a big baby baby baby  You can call it a day baby baby baby baby baby yeah baby baby baby baby baby baby baby baby baby baby baby Baby baby baby babe baby baby baby baby baby baby baby baby baby baby baby baby baby  I'm a little girl with a big mind Baby I'm a little girl with a big mind I'm a little girl with a big mind Baby I just can't stand to be in love with you Baby I'm a girl with a big mind baby You can call it a day baby baby baby baby baby baby baby baby baby you're just the way that is Baby I'm a little girl with a big mind baby just can't stand to be in love with you baby I love you baby baby baby baby baby baby baby baby baby baby Baby baby baby baby baby baby baby baby baby baby baby baby  I'm a little girl with a big mind Baby I'm a little girl with a big mind I'm a little girl I'm a little girl with a big mind Baby I just can't stand to be in love with you Baby I'm a little girl with a big mind Baby I just can't stand to be in love with you I love you baby baby baby baby baby baby baby\",\n",
              " 'rap & hip hop',\n",
              " 0.8472124338150024)"
            ]
          },
          "metadata": {},
          "execution_count": 17
        }
      ]
    },
    {
      "cell_type": "code",
      "source": [],
      "metadata": {
        "id": "e6YI7U1zy1pA"
      },
      "execution_count": null,
      "outputs": []
    }
  ]
}